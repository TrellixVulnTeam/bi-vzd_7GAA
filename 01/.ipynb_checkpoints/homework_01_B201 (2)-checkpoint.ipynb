{
 "cells": [
  {
   "cell_type": "markdown",
   "metadata": {
    "id": "WuIxs8vC1omo"
   },
   "source": [
    "# Úkol č. 1 - vizualizace dat a web scraping (do 11. října)\n",
    "\n",
    "  * V rámci tohoto úkolu musíte stáhnout dat z webu (tzv. _web scraping_, velmi základní) a následně data zpracovat a vizualizovat.\n",
    "  * Cílem bude stáhnout data ze serveru https://www.psp.cz/sqw/hlasovani.sqw?o=8 týkající hlasování současné poslanecké sněmovny, uložit tato data v tabulkovém formátu a pak vymyslet vizualizace a zobrazení dat, které umožní orientaci v těchto datech a zvýrazní zajímavé informace a zobrazit přehledně časový vývoj různých veličin.\n",
    " \n",
    "> **Úkoly jsou zadány tak, aby Vám daly prostor pro invenci. Vymyslet _jak přesně_ budete úkol řešit, je důležitou součástí zadání a originalita či nápaditost bude také hodnocena!**\n",
    "\n",
    "## Data\n",
    "\n",
    " * Měli byste stáhnout data ze všech hlasování současné poslanecké sněmovny (tj. od voleb v roce 2017) a to až na úroveň jednotlivých poslanců. \n",
    " * Data by měla obsahovat i stručný popis toho, o jaké hlasování šlo.\n",
    "\n",
    "## Pokyny k vypracování\n",
    "\n",
    "**Základní body zadání**, za jejichž (poctivé) vypracování získáte **8 bodů**:\n",
    "  * Strojově stáhněte data a uložte je do vhodného formátu, který se Vám bude dále dobře zpracovávat. \n",
    "  * **I když nemusíte mít sněmovnu rádi, snažte se nezahltit server a mezi požadavky na stránku mějte alespoň vteřinu mezeru.**\n",
    "  * V druhé části Vašeho Jupyter notebooku pracujte se staženými daty v souborech, které jsou výsledkem Vašeho stahovacího skriptu (aby opravující nemusel spouštět stahování z webu).\n",
    "  * S využitím vybraných nástrojů zpracujte data a vymyslete vizualizace a grafy, aby bylo vidět následující:\n",
    "    * Odchody a přeběhnutí poslanců mezi jednotlivými stranami.\n",
    "    * Jakou mají jednotliví poslanci docházku (účast na hlasování) a jak jsou na tom s docházkou strany jako celek.\n",
    "    * Jak často spolu jednotlivé strany hlasují ve shodě a jak často hlasují odlišně.\n",
    "    * Jak jsou poslanci jednotlivých stran jednotní v hlasování (jak často hlasují stejně, kdo jsou největší rebelové).\n",
    "\n",
    "**Další body zadání** za případné další body (můžete si vybrat, maximum bodů za úkol je každopádně 12 bodů):\n",
    "  * Ve vizualizacích a grafech nějak zachyťte časový vývoj (např. jak se mění docházka, shoda mezi stranami atp.).\n",
    "  * Najděte jednotlivé poslance, kteří se nejvíce shodují při svém hlasování či kteří mají co nejpodobnější účast na hlasování.\n",
    "  * Zkuste rozlišit v datech důležitá hlasování a zpracujte vizualizace (také) pro ně.\n",
    "  * Zkuste najít hlasování, kde poslanci hlasovali nejvíce jinak, než obvykle.\n",
    "  \n",
    "## Tipy a triky\n",
    "  * Balíčky iportujte na začátku notebooku (příp. na začátku scrapovací a pak na začátku vizualizační části).\n",
    "  * Využívejte markdown buňky (jako je ta, ve které je tento text) a naspisy, abyste usnadnily orientaci opravující(mu).\n",
    "  * Pečlivě si vybírejte grafy a vizualizace, aby co nejlépe vyjádřily to, co vyjádřit chcete. Doporučuji projít si pro inspiraci alespoň galerie balíčků `matplotlib` a `seaborn`.\n",
    "\n",
    "## Poznámky k odevzdání\n",
    "\n",
    "  * Řiďte se pokyny ze stránky https://courses.fit.cvut.cz/BI-VZD/homeworks/index.html.\n",
    "  * Odevzdejte Jupyter Notebook (příp. doplněn skripty), ale i soubor(y) se staženými daty (ať opravující nemusí stahovat data).\n",
    "  * Opravující Vám může umožnit úkol dodělat či opravit a získat tak další body. První verze je ale důležitá a bude-li odbytá, budete za to penalizováni."
   ]
  },
  {
   "cell_type": "markdown",
   "metadata": {
    "id": "o98sjExSc07k"
   },
   "source": [
    "# Новый раздел"
   ]
  },
  {
   "cell_type": "code",
   "execution_count": 3,
   "metadata": {
    "id": "HPlld5wDlo1k"
   },
   "outputs": [
    {
     "ename": "ModuleNotFoundError",
     "evalue": "No module named 'bs4'",
     "output_type": "error",
     "traceback": [
      "\u001b[0;31m---------------------------------------------------------------------------\u001b[0m",
      "\u001b[0;31mModuleNotFoundError\u001b[0m                       Traceback (most recent call last)",
      "\u001b[0;32m<ipython-input-3-e65c2036e8d7>\u001b[0m in \u001b[0;36m<module>\u001b[0;34m\u001b[0m\n\u001b[1;32m      4\u001b[0m \u001b[0;34m\u001b[0m\u001b[0m\n\u001b[1;32m      5\u001b[0m \u001b[0;34m\u001b[0m\u001b[0m\n\u001b[0;32m----> 6\u001b[0;31m \u001b[0;32mfrom\u001b[0m \u001b[0mbs4\u001b[0m \u001b[0;32mimport\u001b[0m \u001b[0mBeautifulSoup\u001b[0m\u001b[0;34m\u001b[0m\u001b[0;34m\u001b[0m\u001b[0m\n\u001b[0m\u001b[1;32m      7\u001b[0m \u001b[0;32mimport\u001b[0m \u001b[0mrequests\u001b[0m\u001b[0;34m\u001b[0m\u001b[0;34m\u001b[0m\u001b[0m\n\u001b[1;32m      8\u001b[0m \u001b[0;32mimport\u001b[0m \u001b[0mpandas\u001b[0m \u001b[0;32mas\u001b[0m \u001b[0mpd\u001b[0m\u001b[0;34m\u001b[0m\u001b[0;34m\u001b[0m\u001b[0m\n",
      "\u001b[0;31mModuleNotFoundError\u001b[0m: No module named 'bs4'"
     ]
    }
   ],
   "source": [
    "#parser\n",
    "\n",
    "\n",
    "\n",
    "\n",
    "from bs4 import BeautifulSoup\n",
    "import requests\n",
    "import pandas as pd\n",
    "import numpy as np\n",
    "\n",
    "def get_data_hl(t_1, t_2, t_3, t_4, url : str):\n",
    "    #print('https://public.psp.cz/sqw/'+url)\n",
    "    page_response = requests.get('https://public.psp.cz/sqw/' + url)\n",
    "    content = BeautifulSoup(page_response.content, 'html.parser')\n",
    "    people = content.find_all(attrs={'class':'results'})\n",
    "    content = content.find_all('h2', attrs={'class':'section-title center'})\n",
    "    array = []\n",
    "    for i in range(1,len(content)-1):\n",
    "        #i = i.find('span')\n",
    "        pop = content[i].find('span')\n",
    "        array.append(pop.get_text().split()[0])\n",
    "    array_people = []\n",
    "    for i in people:\n",
    "        pop = i.find_all('li')\n",
    "        arr = []\n",
    "        for j in pop:\n",
    "            arr.append(j.get_text())\n",
    "        array_people.append(arr)\n",
    "    k = 0\n",
    "    while k < len(array_people):\n",
    "        if len(array_people[k]) == 0:\n",
    "            del array_people[k]\n",
    "        else:\n",
    "            k += 1\n",
    "    array_pd = []\n",
    "    for i in range(0, len(array_people)):\n",
    "        for j in array_people[i]:\n",
    "            j = j.replace('\\xa0', ' ')\n",
    "            array_pd.append(pd.Series({'Název': t_1,\n",
    "                        'Schùze': t_2,\n",
    "                        'Datum': t_3,\n",
    "                        'Výsledek': t_4,\n",
    "                        'Klub': array[i],\n",
    "                        'Jmeno' : j.split(' ', 1)[1],\n",
    "                        'Hlas' : j.split(' ', 1)[0]}))\n",
    "    df = pd.DataFrame(array_pd)\n",
    "    #print(df,'\\n')\n",
    "    return df\n",
    "            #j = j.replace('ø', 'r')\n",
    "    #for i in array_people:\n",
    "    #    for j in i:\n",
    "    #        print(j, '\\n')\n",
    "    #print(len(array))\n",
    "    #print(len(array_people))\n",
    "\n",
    "\n",
    "\n",
    "\n",
    "def get_data(url : str):\n",
    "    \"\"\"try:\n",
    "        a = pd.read_html(url)\n",
    "\n",
    "    except Exception:\n",
    "        print(url + ' no table')\n",
    "    else:\n",
    "        print(url + ' table is ok')\n",
    "    finally:\n",
    "        return 1\"\"\"\n",
    "    a = pd.read_html(url)\n",
    "    b = a[0]\n",
    "    b = b[['Název', 'Schùze', 'Datum', 'Výsledek']]\n",
    "    page_response = requests.get(url)\n",
    "    content = BeautifulSoup(page_response.content, 'html.parser')\n",
    "    content = content.find(id = 'main-content')\n",
    "    content = content.find_all('a')\n",
    "    array = []\n",
    "    for i in content:\n",
    "        if len(i.get_text()) < 4:\n",
    "            array.append(i.get('href'))\n",
    "    df = get_data_hl(b['Název'].iloc[0], b['Schůze'].iloc[0], b['Datum'].iloc[0], b['Výsledek'].iloc[0], array[0])\n",
    "    for i in range(1,len(b)):\n",
    "        df = pd.concat([get_data_hl(b['Název'].iloc[i], b['Schùze'].iloc[i], b['Datum'].iloc[i], b['Výsledek'].iloc[i], array[i]),df])\n",
    "    #print(df.info())\n",
    "    return df\n",
    "\n",
    "\n",
    "def parser():\n",
    "    url_st, url_end = 'https://public.psp.cz/sqw/phlasa.sqw?o=8&s=', '&pg=1'\n",
    "    df = get_data(url_st + str(1) + url_end)\n",
    "    for i in range(2, 62):\n",
    "        if  i != 10 and i!=21:\n",
    "            pop = get_data(url_st + str(i) + url_end)\n",
    "            df = pd.concat([pop, df])\n",
    "    file_name ='file1.csv'\n",
    "    df.to_csv(file_name)\n",
    "    print(df)\n",
    "    \n",
    "    return "
   ]
  },
  {
   "cell_type": "code",
   "execution_count": 4,
   "metadata": {
    "colab": {
     "base_uri": "https://localhost:8080/",
     "height": 419
    },
    "id": "jZe5a1O21omq",
    "outputId": "85b9d309-2286-4ca1-c20b-601e7cebdd5d"
   },
   "outputs": [
    {
     "data": {
      "text/html": [
       "<div>\n",
       "<style scoped>\n",
       "    .dataframe tbody tr th:only-of-type {\n",
       "        vertical-align: middle;\n",
       "    }\n",
       "\n",
       "    .dataframe tbody tr th {\n",
       "        vertical-align: top;\n",
       "    }\n",
       "\n",
       "    .dataframe thead th {\n",
       "        text-align: right;\n",
       "    }\n",
       "</style>\n",
       "<table border=\"1\" class=\"dataframe\">\n",
       "  <thead>\n",
       "    <tr style=\"text-align: right;\">\n",
       "      <th></th>\n",
       "      <th>Schůze</th>\n",
       "      <th>Název</th>\n",
       "      <th>Výsledek</th>\n",
       "      <th>Jmeno</th>\n",
       "      <th>Klub</th>\n",
       "      <th>Hlas</th>\n",
       "      <th>Datum</th>\n",
       "    </tr>\n",
       "  </thead>\n",
       "  <tbody>\n",
       "    <tr>\n",
       "      <th>0</th>\n",
       "      <td>62</td>\n",
       "      <td>Sml. o vydávání mezi ČR a Argentinskou republi...</td>\n",
       "      <td>Přijato</td>\n",
       "      <td>Věra Adámková</td>\n",
       "      <td>ANO</td>\n",
       "      <td>A</td>\n",
       "      <td>22. 10. 2020 12:47</td>\n",
       "    </tr>\n",
       "    <tr>\n",
       "      <th>1</th>\n",
       "      <td>62</td>\n",
       "      <td>Sml. o vydávání mezi ČR a Argentinskou republi...</td>\n",
       "      <td>Přijato</td>\n",
       "      <td>Andrej Babiš</td>\n",
       "      <td>ANO</td>\n",
       "      <td>0</td>\n",
       "      <td>22. 10. 2020 12:47</td>\n",
       "    </tr>\n",
       "    <tr>\n",
       "      <th>2</th>\n",
       "      <td>62</td>\n",
       "      <td>Sml. o vydávání mezi ČR a Argentinskou republi...</td>\n",
       "      <td>Přijato</td>\n",
       "      <td>Andrea Babišová</td>\n",
       "      <td>ANO</td>\n",
       "      <td>M</td>\n",
       "      <td>22. 10. 2020 12:47</td>\n",
       "    </tr>\n",
       "    <tr>\n",
       "      <th>3</th>\n",
       "      <td>62</td>\n",
       "      <td>Sml. o vydávání mezi ČR a Argentinskou republi...</td>\n",
       "      <td>Přijato</td>\n",
       "      <td>Ondřej Babka</td>\n",
       "      <td>ANO</td>\n",
       "      <td>A</td>\n",
       "      <td>22. 10. 2020 12:47</td>\n",
       "    </tr>\n",
       "    <tr>\n",
       "      <th>4</th>\n",
       "      <td>62</td>\n",
       "      <td>Sml. o vydávání mezi ČR a Argentinskou republi...</td>\n",
       "      <td>Přijato</td>\n",
       "      <td>Margita Balaštíková</td>\n",
       "      <td>ANO</td>\n",
       "      <td>0</td>\n",
       "      <td>22. 10. 2020 12:47</td>\n",
       "    </tr>\n",
       "    <tr>\n",
       "      <th>...</th>\n",
       "      <td>...</td>\n",
       "      <td>...</td>\n",
       "      <td>...</td>\n",
       "      <td>...</td>\n",
       "      <td>...</td>\n",
       "      <td>...</td>\n",
       "      <td>...</td>\n",
       "    </tr>\n",
       "    <tr>\n",
       "      <th>893795</th>\n",
       "      <td>1</td>\n",
       "      <td>Inf. o ustavení volební komise PS a volbě členů</td>\n",
       "      <td>Přijato (zmatečné)</td>\n",
       "      <td>Petr Gazdík</td>\n",
       "      <td>STAN</td>\n",
       "      <td>A</td>\n",
       "      <td>20. 11. 2017 13:53</td>\n",
       "    </tr>\n",
       "    <tr>\n",
       "      <th>893796</th>\n",
       "      <td>1</td>\n",
       "      <td>Inf. o ustavení volební komise PS a volbě členů</td>\n",
       "      <td>Přijato (zmatečné)</td>\n",
       "      <td>Věra Kovářová</td>\n",
       "      <td>STAN</td>\n",
       "      <td>A</td>\n",
       "      <td>20. 11. 2017 13:53</td>\n",
       "    </tr>\n",
       "    <tr>\n",
       "      <th>893797</th>\n",
       "      <td>1</td>\n",
       "      <td>Inf. o ustavení volební komise PS a volbě členů</td>\n",
       "      <td>Přijato (zmatečné)</td>\n",
       "      <td>Jana Krutáková</td>\n",
       "      <td>STAN</td>\n",
       "      <td>A</td>\n",
       "      <td>20. 11. 2017 13:53</td>\n",
       "    </tr>\n",
       "    <tr>\n",
       "      <th>893798</th>\n",
       "      <td>1</td>\n",
       "      <td>Inf. o ustavení volební komise PS a volbě členů</td>\n",
       "      <td>Přijato (zmatečné)</td>\n",
       "      <td>Martin Půta</td>\n",
       "      <td>STAN</td>\n",
       "      <td>A</td>\n",
       "      <td>20. 11. 2017 13:53</td>\n",
       "    </tr>\n",
       "    <tr>\n",
       "      <th>893799</th>\n",
       "      <td>1</td>\n",
       "      <td>Inf. o ustavení volební komise PS a volbě členů</td>\n",
       "      <td>Přijato (zmatečné)</td>\n",
       "      <td>Vít Rakušan</td>\n",
       "      <td>STAN</td>\n",
       "      <td>A</td>\n",
       "      <td>20. 11. 2017 13:53</td>\n",
       "    </tr>\n",
       "  </tbody>\n",
       "</table>\n",
       "<p>893800 rows × 7 columns</p>\n",
       "</div>"
      ],
      "text/plain": [
       "        Schůze                                              Název  \\\n",
       "0           62  Sml. o vydávání mezi ČR a Argentinskou republi...   \n",
       "1           62  Sml. o vydávání mezi ČR a Argentinskou republi...   \n",
       "2           62  Sml. o vydávání mezi ČR a Argentinskou republi...   \n",
       "3           62  Sml. o vydávání mezi ČR a Argentinskou republi...   \n",
       "4           62  Sml. o vydávání mezi ČR a Argentinskou republi...   \n",
       "...        ...                                                ...   \n",
       "893795       1    Inf. o ustavení volební komise PS a volbě členů   \n",
       "893796       1    Inf. o ustavení volební komise PS a volbě členů   \n",
       "893797       1    Inf. o ustavení volební komise PS a volbě členů   \n",
       "893798       1    Inf. o ustavení volební komise PS a volbě členů   \n",
       "893799       1    Inf. o ustavení volební komise PS a volbě členů   \n",
       "\n",
       "                  Výsledek                Jmeno  Klub Hlas               Datum  \n",
       "0                  Přijato        Věra Adámková   ANO    A  22. 10. 2020 12:47  \n",
       "1                  Přijato         Andrej Babiš   ANO    0  22. 10. 2020 12:47  \n",
       "2                  Přijato      Andrea Babišová   ANO    M  22. 10. 2020 12:47  \n",
       "3                  Přijato         Ondřej Babka   ANO    A  22. 10. 2020 12:47  \n",
       "4                  Přijato  Margita Balaštíková   ANO    0  22. 10. 2020 12:47  \n",
       "...                    ...                  ...   ...  ...                 ...  \n",
       "893795  Přijato (zmatečné)          Petr Gazdík  STAN    A  20. 11. 2017 13:53  \n",
       "893796  Přijato (zmatečné)        Věra Kovářová  STAN    A  20. 11. 2017 13:53  \n",
       "893797  Přijato (zmatečné)       Jana Krutáková  STAN    A  20. 11. 2017 13:53  \n",
       "893798  Přijato (zmatečné)          Martin Půta  STAN    A  20. 11. 2017 13:53  \n",
       "893799  Přijato (zmatečné)          Vít Rakušan  STAN    A  20. 11. 2017 13:53  \n",
       "\n",
       "[893800 rows x 7 columns]"
      ]
     },
     "execution_count": 4,
     "metadata": {},
     "output_type": "execute_result"
    }
   ],
   "source": [
    "### odtud už je to Vaše\n",
    "import pandas as pd\n",
    "import os\n",
    "import matplotlib\n",
    "import matplotlib.pyplot as plt\n",
    "matplotlib.style.use('ggplot')\n",
    "dir = os.path.abspath(os.curdir)\n",
    "dir\n",
    "df = pd.read_csv('file1.csv')\n",
    "df = df[['Schůze', 'Název', 'Výsledek', 'Jmeno', 'Klub', 'Hlas', 'Datum']]\n",
    "%matplotlib inline\n",
    "df\n"
   ]
  },
  {
   "cell_type": "code",
   "execution_count": null,
   "metadata": {
    "id": "x6iw2n3_dZRY"
   },
   "outputs": [],
   "source": [
    "#tady\n",
    "#df = df.sort_values(by = ['Schùze'])"
   ]
  },
  {
   "cell_type": "code",
   "execution_count": null,
   "metadata": {
    "colab": {
     "base_uri": "https://localhost:8080/",
     "height": 601
    },
    "id": "F6_qnIjgTjWQ",
    "outputId": "e6aa6546-0287-4fa1-dea5-ccde587a35ae"
   },
   "outputs": [
    {
     "name": "stdout",
     "output_type": "stream",
     "text": [
      "1.dohazka klubu\n"
     ]
    }
   ],
   "source": [
    "##Jakou mají jednotliví poslanci docházku (účast na hlasování) a jak jsou na tom s docházkou strany jako celek.\n",
    "df_1 = df[['Klub', 'Hlas']]\n",
    "df_klub = df['Klub'].drop_duplicates()\n",
    "arr = []\n",
    "for i in range(0,len(df_klub)-1):\n",
    "  hlas_neni = df_1.where(df['Klub'] == df_klub.iloc[i]).dropna().where(df['Hlas'] == '0').dropna().count()[0]\n",
    "  hlas_all = df_1.where(df['Klub'] == df_klub.iloc[i]).dropna().count()[0]\n",
    "  arr.append(pd.Series({'Klub': df_klub.iloc[i], 'kolik': (hlas_neni/((hlas_all)/100))}))\n",
    "\n",
    "ans = pd.DataFrame(arr)\n",
    "print(\"1.dohazka klubu\")\n",
    "ans.plot.scatter(x = 'Klub', y = 'kolik')\n",
    "\n",
    "\n",
    "#====================================================================================#\n",
    "df_1 = df[['Jmeno', 'Hlas']]\n",
    "df_clovek = df['Jmeno'].drop_duplicates()\n",
    "arr = []\n",
    "for i in range(0,len(df_clovek)):\n",
    "  hlas_neni = df_1.where(df['Jmeno'] == df_clovek.iloc[i]).dropna().where(df['Hlas'] == '0').dropna().count()[0]\n",
    "  hlas_all = df_1.where(df['Jmeno'] == df_clovek.iloc[i]).dropna().count()[0]\n",
    "  arr.append(pd.Series({'Jmeno': df_clovek.iloc[i], 'kolik': (hlas_neni/((hlas_all)/100))}))\n",
    "\n",
    "ans = pd.DataFrame(arr)\n",
    "print(\"2.dohazka lidi\")\n",
    "ans.plot.scatter(x = 'Jmeno', y = 'kolik')\n",
    "\n",
    "\n",
    "\n",
    "\n"
   ]
  },
  {
   "cell_type": "code",
   "execution_count": 68,
   "metadata": {
    "colab": {
     "base_uri": "https://localhost:8080/",
     "height": 159
    },
    "id": "KzBReXBJdEmV",
    "outputId": "40ff1a66-a176-41ee-e655-296390ce0c23"
   },
   "outputs": [
    {
     "name": "stdout",
     "output_type": "stream",
     "text": [
      "nejmensi dohazka\n"
     ]
    },
    {
     "data": {
      "text/html": [
       "<div>\n",
       "<style scoped>\n",
       "    .dataframe tbody tr th:only-of-type {\n",
       "        vertical-align: middle;\n",
       "    }\n",
       "\n",
       "    .dataframe tbody tr th {\n",
       "        vertical-align: top;\n",
       "    }\n",
       "\n",
       "    .dataframe thead th {\n",
       "        text-align: right;\n",
       "    }\n",
       "</style>\n",
       "<table border=\"1\" class=\"dataframe\">\n",
       "  <thead>\n",
       "    <tr style=\"text-align: right;\">\n",
       "      <th></th>\n",
       "      <th>Jmeno</th>\n",
       "      <th>kolik</th>\n",
       "    </tr>\n",
       "  </thead>\n",
       "  <tbody>\n",
       "    <tr>\n",
       "      <th>220</th>\n",
       "      <td>Radek Vondráèek(�ádost o opravu záznamu)</td>\n",
       "      <td>100.0</td>\n",
       "    </tr>\n",
       "    <tr>\n",
       "      <th>225</th>\n",
       "      <td>Vlastimil Válek(�ádost o opravu záznamu)</td>\n",
       "      <td>100.0</td>\n",
       "    </tr>\n",
       "    <tr>\n",
       "      <th>235</th>\n",
       "      <td>Petr Beitl(�ádost o opravu záznamu)</td>\n",
       "      <td>100.0</td>\n",
       "    </tr>\n",
       "  </tbody>\n",
       "</table>\n",
       "</div>"
      ],
      "text/plain": [
       "                                        Jmeno  kolik\n",
       "220  Radek Vondráèek(�ádost o opravu záznamu)  100.0\n",
       "225  Vlastimil Válek(�ádost o opravu záznamu)  100.0\n",
       "235       Petr Beitl(�ádost o opravu záznamu)  100.0"
      ]
     },
     "execution_count": 68,
     "metadata": {
      "tags": []
     },
     "output_type": "execute_result"
    }
   ],
   "source": [
    "\n",
    "ans_1 = ans.where(ans['kolik'] == ans['kolik'].max()).dropna()\n",
    "print(\"nejmensi dohazka\")\n",
    "ans_1"
   ]
  },
  {
   "cell_type": "code",
   "execution_count": 75,
   "metadata": {
    "id": "2OLX-6bQcQ7f"
   },
   "outputs": [],
   "source": []
  },
  {
   "cell_type": "code",
   "execution_count": null,
   "metadata": {
    "id": "UfCnzSXWlY94"
   },
   "outputs": [],
   "source": [
    "#Jak jsou poslanci jednotlivých stran jednotní v hlasování (jak často hlasují stejně, kdo jsou největší rebelové).\n",
    "#predpokladame ze hlasuji stejne kdyz maji vetsi nez 90 za nebo proti%\n",
    "df_date = df['Datum'].drop_duplicates()\n",
    "df_klub = df['Klub'].drop_duplicates()\n",
    "arr_ans = []\n",
    "for i in range(0,len(df_klub)-1):\n",
    "  arr_ans.append([df_klub.iloc[i], 0])\n",
    "for i in range(0,len(df_date)):\n",
    "  for j in range(0,len(df_klub)-1):\n",
    "    df_hlasy = df.where(df['Datum'] == df_date.iloc[i]).dropna().where(df['Klub'] == df_klub.iloc[j]).dropna()\n",
    "    df_hlasy = df_hlasy['Hlas']\n",
    "    hlas_ano = df_hlasy.where(df['Hlas'] == 'A').dropna().count()\n",
    "    hlas_ne = df_hlasy.where(df['Hlas'] == 'N').dropna().count()\n",
    "    if hlas_ano > hlas_ne:\n",
    "      if (hlas_ano/((hlas_ne+hlas_ano)/100)) >= 90:\n",
    "        arr_ans[j][1] += 1\n",
    "    else:\n",
    "      if (hlas_ne/((hlas_ne+hlas_ano)/100)) >= 90:\n",
    "        arr_ans[j][1] += 1\n"
   ]
  },
  {
   "cell_type": "code",
   "execution_count": 129,
   "metadata": {
    "colab": {
     "base_uri": "https://localhost:8080/",
     "height": 316
    },
    "id": "wlcMKBPnoCrE",
    "outputId": "843cb52b-aca1-458e-a946-c22989637dbc"
   },
   "outputs": [
    {
     "name": "stdout",
     "output_type": "stream",
     "text": [
      "Jak jsou poslanci jednotlivých stran jednotní v hlasování\n"
     ]
    },
    {
     "data": {
      "text/plain": [
       "<matplotlib.axes._subplots.AxesSubplot at 0x7f10f3067eb8>"
      ]
     },
     "execution_count": 129,
     "metadata": {
      "tags": []
     },
     "output_type": "execute_result"
    },
    {
     "data": {
      "image/png": "[encoded data removed]",
      "text/plain": [
       "<Figure size 432x288 with 1 Axes>"
      ]
     },
     "metadata": {
      "needs_background": "light",
      "tags": []
     },
     "output_type": "display_data"
    }
   ],
   "source": [
    "arr = []\n",
    "all_shuze = len(df_date)\n",
    "for i in arr_ans:\n",
    "  arr.append(pd.Series({'klub': i[0], 'Procent' : (i[1]/(all_shuze/100))}))\n",
    "\n",
    "df_ans3 = pd.DataFrame(arr)\n",
    "print(\"Jak jsou poslanci jednotlivých stran jednotní v hlasování\")\n",
    "df_ans3.plot.scatter(x = 'klub', y = 'Procent')"
   ]
  },
  {
   "cell_type": "code",
   "execution_count": 17,
   "metadata": {
    "colab": {
     "base_uri": "https://localhost:8080/",
     "height": 419
    },
    "id": "JBuHYXFP4LsY",
    "outputId": "6a8374ad-6b45-4d5d-f7ed-58354ba1c0a7"
   },
   "outputs": [
    {
     "data": {
      "text/html": [
       "<div>\n",
       "<style scoped>\n",
       "    .dataframe tbody tr th:only-of-type {\n",
       "        vertical-align: middle;\n",
       "    }\n",
       "\n",
       "    .dataframe tbody tr th {\n",
       "        vertical-align: top;\n",
       "    }\n",
       "\n",
       "    .dataframe thead th {\n",
       "        text-align: right;\n",
       "    }\n",
       "</style>\n",
       "<table border=\"1\" class=\"dataframe\">\n",
       "  <thead>\n",
       "    <tr style=\"text-align: right;\">\n",
       "      <th></th>\n",
       "      <th>ANO</th>\n",
       "      <th>ODS</th>\n",
       "      <th>Piráti</th>\n",
       "      <th>SPD</th>\n",
       "      <th>ÈSSD</th>\n",
       "      <th>KSÈM</th>\n",
       "      <th>KDU-ÈSL</th>\n",
       "      <th>TOP09</th>\n",
       "      <th>STAN</th>\n",
       "    </tr>\n",
       "  </thead>\n",
       "  <tbody>\n",
       "    <tr>\n",
       "      <th>0</th>\n",
       "      <td>0</td>\n",
       "      <td>1</td>\n",
       "      <td>1</td>\n",
       "      <td>1</td>\n",
       "      <td>0</td>\n",
       "      <td>1</td>\n",
       "      <td>1</td>\n",
       "      <td>1</td>\n",
       "      <td>1</td>\n",
       "    </tr>\n",
       "    <tr>\n",
       "      <th>1</th>\n",
       "      <td>1</td>\n",
       "      <td>0</td>\n",
       "      <td>1</td>\n",
       "      <td>1</td>\n",
       "      <td>1</td>\n",
       "      <td>1</td>\n",
       "      <td>1</td>\n",
       "      <td>1</td>\n",
       "      <td>1</td>\n",
       "    </tr>\n",
       "    <tr>\n",
       "      <th>2</th>\n",
       "      <td>0</td>\n",
       "      <td>0</td>\n",
       "      <td>1</td>\n",
       "      <td>1</td>\n",
       "      <td>1</td>\n",
       "      <td>1</td>\n",
       "      <td>0</td>\n",
       "      <td>0</td>\n",
       "      <td>0</td>\n",
       "    </tr>\n",
       "    <tr>\n",
       "      <th>3</th>\n",
       "      <td>0</td>\n",
       "      <td>1</td>\n",
       "      <td>1</td>\n",
       "      <td>1</td>\n",
       "      <td>1</td>\n",
       "      <td>1</td>\n",
       "      <td>1</td>\n",
       "      <td>1</td>\n",
       "      <td>1</td>\n",
       "    </tr>\n",
       "    <tr>\n",
       "      <th>4</th>\n",
       "      <td>1</td>\n",
       "      <td>0</td>\n",
       "      <td>1</td>\n",
       "      <td>1</td>\n",
       "      <td>1</td>\n",
       "      <td>1</td>\n",
       "      <td>1</td>\n",
       "      <td>1</td>\n",
       "      <td>1</td>\n",
       "    </tr>\n",
       "    <tr>\n",
       "      <th>...</th>\n",
       "      <td>...</td>\n",
       "      <td>...</td>\n",
       "      <td>...</td>\n",
       "      <td>...</td>\n",
       "      <td>...</td>\n",
       "      <td>...</td>\n",
       "      <td>...</td>\n",
       "      <td>...</td>\n",
       "      <td>...</td>\n",
       "    </tr>\n",
       "    <tr>\n",
       "      <th>656</th>\n",
       "      <td>1</td>\n",
       "      <td>0</td>\n",
       "      <td>0</td>\n",
       "      <td>1</td>\n",
       "      <td>0</td>\n",
       "      <td>1</td>\n",
       "      <td>0</td>\n",
       "      <td>0</td>\n",
       "      <td>0</td>\n",
       "    </tr>\n",
       "    <tr>\n",
       "      <th>657</th>\n",
       "      <td>1</td>\n",
       "      <td>1</td>\n",
       "      <td>1</td>\n",
       "      <td>1</td>\n",
       "      <td>1</td>\n",
       "      <td>1</td>\n",
       "      <td>1</td>\n",
       "      <td>1</td>\n",
       "      <td>1</td>\n",
       "    </tr>\n",
       "    <tr>\n",
       "      <th>658</th>\n",
       "      <td>0</td>\n",
       "      <td>1</td>\n",
       "      <td>1</td>\n",
       "      <td>1</td>\n",
       "      <td>1</td>\n",
       "      <td>1</td>\n",
       "      <td>1</td>\n",
       "      <td>1</td>\n",
       "      <td>1</td>\n",
       "    </tr>\n",
       "    <tr>\n",
       "      <th>659</th>\n",
       "      <td>0</td>\n",
       "      <td>1</td>\n",
       "      <td>0</td>\n",
       "      <td>0</td>\n",
       "      <td>1</td>\n",
       "      <td>0</td>\n",
       "      <td>1</td>\n",
       "      <td>1</td>\n",
       "      <td>1</td>\n",
       "    </tr>\n",
       "    <tr>\n",
       "      <th>660</th>\n",
       "      <td>1</td>\n",
       "      <td>1</td>\n",
       "      <td>1</td>\n",
       "      <td>1</td>\n",
       "      <td>1</td>\n",
       "      <td>1</td>\n",
       "      <td>1</td>\n",
       "      <td>1</td>\n",
       "      <td>1</td>\n",
       "    </tr>\n",
       "  </tbody>\n",
       "</table>\n",
       "<p>661 rows × 9 columns</p>\n",
       "</div>"
      ],
      "text/plain": [
       "     ANO  ODS  Piráti  SPD  ÈSSD  KSÈM  KDU-ÈSL  TOP09  STAN\n",
       "0      0    1       1    1     0     1        1      1     1\n",
       "1      1    0       1    1     1     1        1      1     1\n",
       "2      0    0       1    1     1     1        0      0     0\n",
       "3      0    1       1    1     1     1        1      1     1\n",
       "4      1    0       1    1     1     1        1      1     1\n",
       "..   ...  ...     ...  ...   ...   ...      ...    ...   ...\n",
       "656    1    0       0    1     0     1        0      0     0\n",
       "657    1    1       1    1     1     1        1      1     1\n",
       "658    0    1       1    1     1     1        1      1     1\n",
       "659    0    1       0    0     1     0        1      1     1\n",
       "660    1    1       1    1     1     1        1      1     1\n",
       "\n",
       "[661 rows x 9 columns]"
      ]
     },
     "execution_count": 17,
     "metadata": {
      "tags": []
     },
     "output_type": "execute_result"
    }
   ],
   "source": [
    "#Jak často spolu jednotlivé strany hlasují ve shodě a jak často hlasují odlišně.\n",
    "#tady predpokladame ze kdyz klub A a B maji proti vetsi nez 50 % tak hlasovali stejne\n",
    "df_date = df['Datum'].drop_duplicates()\n",
    "df_klub = df['Klub'].drop_duplicates()\n",
    "k1, k2, k3, k4, k5, k6, k7, k8, k9 = df_klub.iloc[0], df_klub.iloc[1], df_klub.iloc[2], df_klub.iloc[3], df_klub.iloc[4], df_klub.iloc[5],df_klub.iloc[6], df_klub.iloc[7], df_klub.iloc[8]    \n",
    "arr_k = [k1, k2, k3, k4, k5, k6, k7, k8, k9]\n",
    "arr = []\n",
    "for i in range(0, len(df_date)):\n",
    "  arr_hl = []\n",
    "  for j in arr_k:\n",
    "    #print(j)\n",
    "    df_hlasy = df.where(df['Datum'] == df_date.iloc[i]).dropna().where(df['Klub'] == j).dropna()\n",
    "    df_hlasy = df_hlasy['Hlas']\n",
    "    hlas_ano = df_hlasy.where(df['Hlas'] == 'A').dropna().count()\n",
    "    hlas_ne = df_hlasy.where(df['Hlas'] == 'N').dropna().count()\n",
    "    if hlas_ano > hlas_ne:\n",
    "      arr_hl.append(1)\n",
    "    else:\n",
    "      arr_hl.append(0)\n",
    "  arr.append(pd.Series({arr_k[0]: arr_hl[0], arr_k[1]: arr_hl[1], arr_k[2]: arr_hl[2], arr_k[3]: arr_hl[3], arr_k[4]: arr_hl[4], arr_k[5]: arr_hl[5], arr_k[6]: arr_hl[6], arr_k[7]: arr_hl[7], arr_k[8]: arr_hl[8]}))\n",
    "    #print(arr_hl)\n",
    "    #print(arr_k)\n",
    "df_ans4 = pd.DataFrame(arr)\n",
    "df_ans4\n"
   ]
  },
  {
   "cell_type": "code",
   "execution_count": 32,
   "metadata": {
    "colab": {
     "base_uri": "https://localhost:8080/",
     "height": 316
    },
    "id": "eViABcUiPa_n",
    "outputId": "c57a11f0-fe41-4fb4-8d1d-e4b1e6d4292f"
   },
   "outputs": [
    {
     "name": "stdout",
     "output_type": "stream",
     "text": [
      "Jak často spolu klub Ano hlasuje stejne s ostatnimi klubami\n"
     ]
    },
    {
     "data": {
      "text/plain": [
       "<matplotlib.axes._subplots.AxesSubplot at 0x7f01d83f9fd0>"
      ]
     },
     "execution_count": 32,
     "metadata": {
      "tags": []
     },
     "output_type": "execute_result"
    },
    {
     "data": {
      "image/png": "[encoded data removed]",
      "text/plain": [
       "<Figure size 432x288 with 1 Axes>"
      ]
     },
     "metadata": {
      "needs_background": "light",
      "tags": []
     },
     "output_type": "display_data"
    }
   ],
   "source": [
    "\n",
    "#Jak často spolu klub Ano hlasuje stejne s ostatnimi klubami\n",
    "df_klub = df['Klub'].drop_duplicates()\n",
    "arr_klub = []\n",
    "arr_ans = []\n",
    "for i in range(1,len(df_klub)-1):\n",
    "  arr_ans.append([df_klub.iloc[i], 0])\n",
    "for j in range(1,len(df_klub)-1):\n",
    "  arr_klub.append(df_klub.iloc[j])\n",
    "for i in range(0, len(df_ans4)):\n",
    "  for j in range(0, len(arr_klub)):\n",
    "    if df_ans4['ANO'].iloc[i] == df_ans4[arr_klub[j]].iloc[i]:\n",
    "      arr_ans[j][1] += 1\n",
    "all_shuze = len(df_date)\n",
    "for i in arr_ans:\n",
    "  i[1] = i[1]/(all_shuze/100)\n",
    "arr = []\n",
    "for i in arr_ans:\n",
    "  arr.append(pd.Series({'klub': i[0], 'Procent' : i[1]}))\n",
    "ans = pd.DataFrame(arr)\n",
    "print(\"Jak často spolu klub Ano hlasuje stejne s ostatnimi klubami\")\n",
    "ans.plot.scatter(x = 'klub', y = 'Procent')"
   ]
  },
  {
   "cell_type": "code",
   "execution_count": 40,
   "metadata": {
    "colab": {
     "base_uri": "https://localhost:8080/",
     "height": 527
    },
    "id": "hrc_8Qc_j02P",
    "outputId": "f234f053-485c-4235-d71f-6a74def5c5c2"
   },
   "outputs": [
    {
     "name": "stdout",
     "output_type": "stream",
     "text": [
      "tady graf nema smysl\n",
      "                     Klub\n",
      "Jmeno                    \n",
      "Jaroslav Foldyna     ÈSSD\n",
      "Jaroslav Foldyna      SPD\n",
      "Jaroslav Foldyna  Nezaøaz\n",
      "                 Klub\n",
      "Jmeno                \n",
      "Marian Bojko      SPD\n",
      "Marian Bojko  Nezaøaz\n",
      "                   Klub\n",
      "Jmeno                  \n",
      "Tereza Hy�hová      SPD\n",
      "Tereza Hy�hová  Nezaøaz\n",
      "                 Klub\n",
      "Jmeno                \n",
      "Václav Klaus      ODS\n",
      "Václav Klaus  Nezaøaz\n",
      "                                 Klub\n",
      "Jmeno                                \n",
      "Zuzana Majerová Zahradníková      ODS\n",
      "Zuzana Majerová Zahradníková  Nezaøaz\n",
      "                    Klub\n",
      "Jmeno                   \n",
      "Ivana Nevludová      SPD\n",
      "Ivana Nevludová  Nezaøaz\n",
      "                  Klub\n",
      "Jmeno                 \n",
      "Lubomír Volnı      SPD\n",
      "Lubomír Volnı  Nezaøaz\n"
     ]
    }
   ],
   "source": [
    "#Odchody a přeběhnutí poslanců mezi jednotlivými stranami.\n",
    "print(\"tady graf nema smysl\")\n",
    "df_lidi = df['Jmeno'].drop_duplicates()\n",
    "for i in range(0, len(df_lidi)):\n",
    "  b = df[['Jmeno','Klub','Schùze']].sort_values(by = 'Schùze')\n",
    "  b = b[['Jmeno','Klub']]\n",
    "  b = b[['Jmeno','Klub']].where(df['Jmeno'] == df_lidi.iloc[i]).dropna().drop_duplicates().set_index('Jmeno')\n",
    "  if len(b) > 1:\n",
    "    print(b)"
   ]
  },
  {
   "cell_type": "code",
   "execution_count": 36,
   "metadata": {
    "id": "QRTnlpH8-T4_"
   },
   "outputs": [],
   "source": []
  }
 ],
 "metadata": {
  "colab": {
   "name": "homework_01_B201.ipynb",
   "provenance": []
  },
  "kernelspec": {
   "display_name": "Python 3",
   "language": "python",
   "name": "python3"
  },
  "language_info": {
   "codemirror_mode": {
    "name": "ipython",
    "version": 3
   },
   "file_extension": ".py",
   "mimetype": "text/x-python",
   "name": "python",
   "nbconvert_exporter": "python",
   "pygments_lexer": "ipython3",
   "version": "3.6.9"
  }
 },
 "nbformat": 4,
 "nbformat_minor": 1
}
